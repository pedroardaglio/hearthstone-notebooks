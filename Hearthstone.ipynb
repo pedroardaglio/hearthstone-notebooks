{
 "cells": [
  {
   "cell_type": "markdown",
   "metadata": {},
   "source": [
    "# Hearthstone"
   ]
  },
  {
   "cell_type": "code",
   "execution_count": 4,
   "metadata": {},
   "outputs": [
    {
     "name": "stdout",
     "output_type": "stream",
     "text": [
      "1478\n",
      "{'blank': 19, 5: 185, 3: 278, 2: 256, 1: 181, 4: 232, 6: 129, 8: 43, 7: 71, 9: 38, 10: 19, 0: 22, 12: 3, 25: 1, 11: 1}\n"
     ]
    }
   ],
   "source": [
    "import json\n",
    "\n",
    "data_json = None\n",
    "with open('cards.collectible.json', encoding='utf-8') as data_file:\n",
    "    data_json = json.loads(data_file.read())\n",
    "\n",
    "print(len(data_json))\n",
    "\n",
    "cost_count = {}\n",
    "cost_count['blank'] = 0\n",
    "for i in data_json:\n",
    "    if 'cost' in i.keys():\n",
    "        if i['cost'] not in cost_count.keys():\n",
    "            cost_count[i['cost']] = 1\n",
    "        else:\n",
    "            cost_count[i['cost']] = cost_count[i['cost']] + 1\n",
    "    else:\n",
    "        cost_count['blank'] = cost_count['blank'] + 1\n",
    "\n",
    "print(cost_count)"
   ]
  }
 ],
 "metadata": {
  "kernelspec": {
   "display_name": "Python 3",
   "language": "python",
   "name": "python3"
  },
  "language_info": {
   "codemirror_mode": {
    "name": "ipython",
    "version": 3
   },
   "file_extension": ".py",
   "mimetype": "text/x-python",
   "name": "python",
   "nbconvert_exporter": "python",
   "pygments_lexer": "ipython3",
   "version": "3.6.3"
  }
 },
 "nbformat": 4,
 "nbformat_minor": 2
}
